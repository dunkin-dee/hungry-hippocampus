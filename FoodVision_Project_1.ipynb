{
  "nbformat": 4,
  "nbformat_minor": 0,
  "metadata": {
    "colab": {
      "provenance": []
    },
    "kernelspec": {
      "name": "python3",
      "display_name": "Python 3"
    },
    "language_info": {
      "name": "python"
    },
    "accelerator": "GPU",
    "gpuClass": "standard"
  },
  "cells": [
    {
      "cell_type": "markdown",
      "source": [
        "# Milestone Project 1: FoodVision"
      ],
      "metadata": {
        "id": "P3Ppy5KQA9Yv"
      }
    },
    {
      "cell_type": "code",
      "source": [
        "#Check GPU\n",
        "!nvidia-smi -L\n"
      ],
      "metadata": {
        "colab": {
          "base_uri": "https://localhost:8080/"
        },
        "id": "N9EGKOT5BSRk",
        "outputId": "656e1c80-85ca-4c03-e424-41271e618148"
      },
      "execution_count": null,
      "outputs": [
        {
          "output_type": "stream",
          "name": "stdout",
          "text": [
            "GPU 0: Tesla T4 (UUID: GPU-da080272-33d0-414b-27a4-91d0e32e1108)\n"
          ]
        }
      ]
    },
    {
      "cell_type": "code",
      "source": [
        "# Getting helper functions\n",
        "!wget https://raw.githubusercontent.com/mrdbourke/tensorflow-deep-learning/main/extras/helper_functions.py"
      ],
      "metadata": {
        "colab": {
          "base_uri": "https://localhost:8080/"
        },
        "id": "Fa5XwL2ADCl_",
        "outputId": "ee617a01-2924-4901-f12b-c9cbe21cf286"
      },
      "execution_count": null,
      "outputs": [
        {
          "output_type": "stream",
          "name": "stdout",
          "text": [
            "--2022-07-01 09:26:38--  https://raw.githubusercontent.com/mrdbourke/tensorflow-deep-learning/main/extras/helper_functions.py\n",
            "Resolving raw.githubusercontent.com (raw.githubusercontent.com)... 185.199.108.133, 185.199.109.133, 185.199.110.133, ...\n",
            "Connecting to raw.githubusercontent.com (raw.githubusercontent.com)|185.199.108.133|:443... connected.\n",
            "HTTP request sent, awaiting response... 200 OK\n",
            "Length: 10246 (10K) [text/plain]\n",
            "Saving to: ‘helper_functions.py’\n",
            "\n",
            "\rhelper_functions.py   0%[                    ]       0  --.-KB/s               \rhelper_functions.py 100%[===================>]  10.01K  --.-KB/s    in 0s      \n",
            "\n",
            "2022-07-01 09:26:38 (76.6 MB/s) - ‘helper_functions.py’ saved [10246/10246]\n",
            "\n"
          ]
        }
      ]
    },
    {
      "cell_type": "code",
      "source": [
        "from helper_functions import *"
      ],
      "metadata": {
        "id": "F0cXF5pHFQ8H"
      },
      "execution_count": null,
      "outputs": []
    },
    {
      "cell_type": "markdown",
      "source": [
        "## Use TensorFlow Datasets to Download Data\n",
        "\n"
      ],
      "metadata": {
        "id": "i7Bjqp8PFb3M"
      }
    },
    {
      "cell_type": "code",
      "source": [
        "import tensorflow_datasets as tfds\n",
        "\n",
        "(train_data, test_data), ds_info = tfds.load(name=\"food101\",\n",
        "                                             split=[\"train\", \"validation\"],\n",
        "                                             shuffle_files=True,\n",
        "                                             as_supervised=True,\n",
        "                                             with_info=True)"
      ],
      "metadata": {
        "id": "_4sKgscFGLOn"
      },
      "execution_count": null,
      "outputs": []
    },
    {
      "cell_type": "code",
      "source": [
        "ds_info.features"
      ],
      "metadata": {
        "colab": {
          "base_uri": "https://localhost:8080/"
        },
        "id": "Fq5yplurGwGu",
        "outputId": "d652ddf2-a102-4ab2-db61-9e21f7433b5d"
      },
      "execution_count": null,
      "outputs": [
        {
          "output_type": "execute_result",
          "data": {
            "text/plain": [
              "FeaturesDict({\n",
              "    'image': Image(shape=(None, None, 3), dtype=tf.uint8),\n",
              "    'label': ClassLabel(shape=(), dtype=tf.int64, num_classes=101),\n",
              "})"
            ]
          },
          "metadata": {},
          "execution_count": 6
        }
      ]
    },
    {
      "cell_type": "code",
      "source": [
        "class_names = ds_info.features[\"label\"].names"
      ],
      "metadata": {
        "id": "Q9SbwQoVHLCx"
      },
      "execution_count": null,
      "outputs": []
    },
    {
      "cell_type": "code",
      "source": [
        "class_names[:10]"
      ],
      "metadata": {
        "colab": {
          "base_uri": "https://localhost:8080/"
        },
        "id": "gP4bAS-fHbr6",
        "outputId": "1f49f73e-219d-4c18-fad8-3c40fc7dea86"
      },
      "execution_count": null,
      "outputs": [
        {
          "output_type": "execute_result",
          "data": {
            "text/plain": [
              "['apple_pie',\n",
              " 'baby_back_ribs',\n",
              " 'baklava',\n",
              " 'beef_carpaccio',\n",
              " 'beef_tartare',\n",
              " 'beet_salad',\n",
              " 'beignets',\n",
              " 'bibimbap',\n",
              " 'bread_pudding',\n",
              " 'breakfast_burrito']"
            ]
          },
          "metadata": {},
          "execution_count": 8
        }
      ]
    },
    {
      "cell_type": "code",
      "source": [
        "train_one_sample = train_data.take(1)"
      ],
      "metadata": {
        "id": "R7-1BThpIg9Z"
      },
      "execution_count": null,
      "outputs": []
    },
    {
      "cell_type": "code",
      "source": [
        "for image, label in train_one_sample:\n",
        "  print(f\"\"\"\n",
        "  Image Shape: {image.shape}\n",
        "  Image datatype: {image.dtype}\n",
        "  Target classe: {label}\n",
        "  Class name: {class_names[label.numpy()]}\n",
        "  \"\"\")"
      ],
      "metadata": {
        "colab": {
          "base_uri": "https://localhost:8080/"
        },
        "id": "6zGl2cVwImA5",
        "outputId": "00ed9239-8943-4b13-bc70-da0cffae747f"
      },
      "execution_count": null,
      "outputs": [
        {
          "output_type": "stream",
          "name": "stdout",
          "text": [
            "\n",
            "  Image Shape: (512, 384, 3)\n",
            "  Image datatype: <dtype: 'uint8'>\n",
            "  Target classe: 19\n",
            "  Class name: chicken_quesadilla\n",
            "  \n"
          ]
        }
      ]
    },
    {
      "cell_type": "code",
      "source": [
        "import matplotlib.pyplot as plt\n",
        "plt.imshow(image)\n",
        "plt.title(class_names[label])\n",
        "plt.axis(False)"
      ],
      "metadata": {
        "colab": {
          "base_uri": "https://localhost:8080/",
          "height": 281
        },
        "id": "djXlTbLeJDDe",
        "outputId": "716bc4d1-4edf-4e72-d2d9-b9d290c40e2a"
      },
      "execution_count": null,
      "outputs": [
        {
          "output_type": "execute_result",
          "data": {
            "text/plain": [
              "(-0.5, 383.5, 511.5, -0.5)"
            ]
          },
          "metadata": {},
          "execution_count": 29
        },
        {
          "output_type": "display_data",
          "data": {
            "text/plain": [
              "<Figure size 432x288 with 1 Axes>"
            ],
            "image/png": "[encoded data removed]"
          },
          "metadata": {
            "needs_background": "light"
          }
        }
      ]
    },
    {
      "cell_type": "code",
      "source": [
        "import tensorflow as tf\n",
        "def preprocess_img(image, label, img_shape=224):\n",
        "  \"\"\"\n",
        "  converts image datatype from `uint8` -> tf.float32 and reshapes image\n",
        "  to [img_shape, img_shape, colour_channels]\n",
        "  \"\"\"\n",
        "\n",
        "  image = tf.image.resize(image, [img_shape, img_shape])\n",
        "  return (tf.cast(image, tf.float32), label)\n"
      ],
      "metadata": {
        "id": "9uKaPefZKE5e"
      },
      "execution_count": null,
      "outputs": []
    },
    {
      "cell_type": "code",
      "source": [
        "processed = preprocess_img(image, label)[0]"
      ],
      "metadata": {
        "id": "vo-Z2_sKNvIF"
      },
      "execution_count": null,
      "outputs": []
    },
    {
      "cell_type": "code",
      "source": [
        "image.shape, image.dtype, image[:2]"
      ],
      "metadata": {
        "colab": {
          "base_uri": "https://localhost:8080/"
        },
        "id": "u0FQOY1iNyOh",
        "outputId": "14290a45-0269-445c-85ed-dae75a227a1b"
      },
      "execution_count": null,
      "outputs": [
        {
          "output_type": "execute_result",
          "data": {
            "text/plain": [
              "(TensorShape([512, 384, 3]),\n",
              " tf.uint8,\n",
              " <tf.Tensor: shape=(2, 384, 3), dtype=uint8, numpy=\n",
              " array([[[ 0,  0,  0],\n",
              "         [ 0,  0,  0],\n",
              "         [ 0,  0,  0],\n",
              "         ...,\n",
              "         [ 7,  7,  5],\n",
              "         [11, 11,  9],\n",
              "         [14, 14, 12]],\n",
              " \n",
              "        [[ 0,  0,  0],\n",
              "         [ 0,  0,  0],\n",
              "         [ 0,  0,  0],\n",
              "         ...,\n",
              "         [ 5,  5,  3],\n",
              "         [ 8,  8,  6],\n",
              "         [11, 11,  9]]], dtype=uint8)>)"
            ]
          },
          "metadata": {},
          "execution_count": 38
        }
      ]
    },
    {
      "cell_type": "code",
      "source": [
        "processed.shape, processed.dtype, processed[:2]"
      ],
      "metadata": {
        "colab": {
          "base_uri": "https://localhost:8080/"
        },
        "id": "o_C57NTIOCuv",
        "outputId": "6ff85b5f-10a4-4c69-8e9d-eb972d8a0965"
      },
      "execution_count": null,
      "outputs": [
        {
          "output_type": "execute_result",
          "data": {
            "text/plain": [
              "(TensorShape([224, 224, 3]),\n",
              " tf.float32,\n",
              " <tf.Tensor: shape=(2, 224, 3), dtype=float32, numpy=\n",
              " array([[[ 0.       ,  0.       ,  0.       ],\n",
              "         [ 0.       ,  0.       ,  0.       ],\n",
              "         [ 0.       ,  0.       ,  0.       ],\n",
              "         ...,\n",
              "         [ 7.7907934,  7.7907934,  5.7907934],\n",
              "         [ 5.714286 ,  5.714286 ,  3.7142856],\n",
              "         [10.999987 , 10.999987 ,  8.999987 ]],\n",
              " \n",
              "        [[ 0.       ,  0.       ,  0.       ],\n",
              "         [ 0.       ,  0.       ,  0.       ],\n",
              "         [ 0.       ,  0.       ,  0.       ],\n",
              "         ...,\n",
              "         [ 6.770399 ,  6.770399 ,  4.770399 ],\n",
              "         [ 6.790833 ,  6.790833 ,  4.790833 ],\n",
              "         [10.1887665, 10.1887665,  8.1887665]]], dtype=float32)>)"
            ]
          },
          "metadata": {},
          "execution_count": 39
        }
      ]
    },
    {
      "cell_type": "markdown",
      "source": [
        "## Batch & prepare datasets"
      ],
      "metadata": {
        "id": "vbRQAxh5ONaa"
      }
    },
    {
      "cell_type": "code",
      "source": [
        "# Map preprocessing function to training and parallelize\n",
        "train_data = train_data.map(map_func=preprocess_img, num_parallel_calls=tf.data.AUTOTUNE)\n",
        "\n",
        "# Shuffle train_data and turn it into batches and prefetch it\n",
        "train_data = train_data.shuffle(buffer_size=2000).batch(batch_size=32).prefetch(buffer_size=tf.data.AUTOTUNE)\n",
        "\n",
        "\n",
        "#Test Data\n",
        "test_data = test_data.map(preprocess_img, num_parallel_calls=tf.data.AUTOTUNE).batch(32).prefetch(tf.data.AUTOTUNE)"
      ],
      "metadata": {
        "id": "SlHLMM6tPU69"
      },
      "execution_count": null,
      "outputs": []
    },
    {
      "cell_type": "markdown",
      "source": [
        "## Create modelling callbacks"
      ],
      "metadata": {
        "id": "dKKbetksQ6nF"
      }
    },
    {
      "cell_type": "code",
      "source": [
        "checkpoint = tf.keras.callbacks.ModelCheckpoint(\"models/checkpoints/big_check.h5\",\n",
        "                                                save_best_only=True,\n",
        "                                                monitor=\"val_accuracy\",\n",
        "                                                verbose=0)\n",
        "\n",
        "tensorboard_callback = create_tensorboard_callback(\"tensorboard_logs\", \"Big Boy\")\n",
        "\n",
        "early_stopping = tf.keras.callbacks.EarlyStopping(monitor='val_loss',\n",
        "                                                   patience=3)"
      ],
      "metadata": {
        "colab": {
          "base_uri": "https://localhost:8080/"
        },
        "id": "Cyl999d1RbIK",
        "outputId": "9e8cade9-0a2e-4645-a271-b55a1debc32e"
      },
      "execution_count": null,
      "outputs": [
        {
          "output_type": "stream",
          "name": "stdout",
          "text": [
            "Saving TensorBoard log files to: tensorboard_logs/Big Boy/20220701-110456\n"
          ]
        }
      ]
    },
    {
      "cell_type": "markdown",
      "source": [
        "## Setup Mixed Precision Training"
      ],
      "metadata": {
        "id": "Sxq93aJOTpfg"
      }
    },
    {
      "cell_type": "code",
      "source": [
        "from tensorflow.keras import mixed_precision\n",
        "mixed_precision.set_global_policy(\"mixed_float16\")"
      ],
      "metadata": {
        "colab": {
          "base_uri": "https://localhost:8080/"
        },
        "id": "SDjWkH9tT1f9",
        "outputId": "6c8d47d4-9285-4f63-fac8-8ed80b3fd541"
      },
      "execution_count": null,
      "outputs": [
        {
          "output_type": "stream",
          "name": "stdout",
          "text": [
            "INFO:tensorflow:Mixed precision compatibility check (mixed_float16): OK\n",
            "Your GPU will likely run quickly with dtype policy mixed_float16 as it has compute capability of at least 7.0. Your GPU: Tesla T4, compute capability 7.5\n"
          ]
        },
        {
          "output_type": "stream",
          "name": "stderr",
          "text": [
            "INFO:tensorflow:Mixed precision compatibility check (mixed_float16): OK\n",
            "Your GPU will likely run quickly with dtype policy mixed_float16 as it has compute capability of at least 7.0. Your GPU: Tesla T4, compute capability 7.5\n"
          ]
        }
      ]
    },
    {
      "cell_type": "code",
      "source": [
        "## Build Feature Extraction model"
      ],
      "metadata": {
        "id": "u1QkY6tAaeSv"
      },
      "execution_count": null,
      "outputs": []
    },
    {
      "cell_type": "code",
      "source": [
        "from tensorflow.keras import layers\n",
        "from tensorflow.keras.models import Sequential\n",
        "from tensorflow.keras.layers.experimental import preprocessing\n",
        "\n",
        "data_augmentation = Sequential([\n",
        "  preprocessing.RandomFlip(\"horizontal\"),\n",
        "  preprocessing.RandomRotation(0.2),\n",
        "  preprocessing.RandomHeight(0.2),\n",
        "  preprocessing.RandomWidth(0.2),\n",
        "  preprocessing.RandomZoom(0.2)\n",
        "], name=\"data_augmentation\")\n",
        "\n",
        "input_shape = (224, 224, 3)\n",
        "base_model = tf.keras.applications.EfficientNetB4(include_top=False)\n",
        "base_model.trainable = False\n",
        "\n",
        "inputs = layers.Input(shape=input_shape, name=\"input_layer\")\n",
        "x = data_augmentation(inputs)\n",
        "x = base_model(x, training=False)\n",
        "x = layers.GlobalAveragePooling2D()(x)\n",
        "x = layers.Dense(len(class_names))(x)\n",
        "outputs = layers.Activation(\"softmax\", dtype=tf.float32, name=\"softmax_float32\")(x)\n",
        "model = tf.keras.Model(inputs, outputs)\n",
        "\n",
        "\n",
        "model.compile(loss=tf.keras.losses.SparseCategoricalCrossentropy(),\n",
        "              optimizer=tf.keras.optimizers.Adam(),\n",
        "              metrics=[\"accuracy\"])"
      ],
      "metadata": {
        "id": "_JH14U68WxzI"
      },
      "execution_count": null,
      "outputs": []
    },
    {
      "cell_type": "code",
      "source": [
        "model.summary()"
      ],
      "metadata": {
        "colab": {
          "base_uri": "https://localhost:8080/"
        },
        "id": "aPAgorI7Zu6p",
        "outputId": "498ed975-119b-4dea-f4d6-202cac7c7252"
      },
      "execution_count": null,
      "outputs": [
        {
          "output_type": "stream",
          "name": "stdout",
          "text": [
            "Model: \"model_1\"\n",
            "_________________________________________________________________\n",
            " Layer (type)                Output Shape              Param #   \n",
            "=================================================================\n",
            " input_layer (InputLayer)    [(None, 224, 224, 3)]     0         \n",
            "                                                                 \n",
            " data_augmentation (Sequenti  (None, 224, 224, 3)      0         \n",
            " al)                                                             \n",
            "                                                                 \n",
            " efficientnetb4 (Functional)  (None, None, None, 1792)  17673823 \n",
            "                                                                 \n",
            " global_average_pooling2d_1   (None, 1792)             0         \n",
            " (GlobalAveragePooling2D)                                        \n",
            "                                                                 \n",
            " dense_1 (Dense)             (None, 101)               181093    \n",
            "                                                                 \n",
            " softmax_float32 (Activation  (None, 101)              0         \n",
            " )                                                               \n",
            "                                                                 \n",
            "=================================================================\n",
            "Total params: 17,854,916\n",
            "Trainable params: 181,093\n",
            "Non-trainable params: 17,673,823\n",
            "_________________________________________________________________\n"
          ]
        }
      ]
    },
    {
      "cell_type": "code",
      "source": [
        "for layer in model.layers[2].layers:\n",
        "  print(f\"{layer.name} \\t {layer.dtype}\\t{layer.dtype_policy}\")"
      ],
      "metadata": {
        "colab": {
          "base_uri": "https://localhost:8080/"
        },
        "id": "zbjDMokxZ2Jo",
        "outputId": "60ede7ac-b675-4098-f30d-e13c3f35a0d2"
      },
      "execution_count": null,
      "outputs": [
        {
          "output_type": "stream",
          "name": "stdout",
          "text": [
            "input_3 \t float32\t<Policy \"float32\">\n",
            "rescaling_2 \t float32\t<Policy \"mixed_float16\">\n",
            "normalization_2 \t float32\t<Policy \"mixed_float16\">\n",
            "stem_conv_pad \t float32\t<Policy \"mixed_float16\">\n",
            "stem_conv \t float32\t<Policy \"mixed_float16\">\n",
            "stem_bn \t float32\t<Policy \"mixed_float16\">\n",
            "stem_activation \t float32\t<Policy \"mixed_float16\">\n",
            "block1a_dwconv \t float32\t<Policy \"mixed_float16\">\n",
            "block1a_bn \t float32\t<Policy \"mixed_float16\">\n",
            "block1a_activation \t float32\t<Policy \"mixed_float16\">\n",
            "block1a_se_squeeze \t float32\t<Policy \"mixed_float16\">\n",
            "block1a_se_reshape \t float32\t<Policy \"mixed_float16\">\n",
            "block1a_se_reduce \t float32\t<Policy \"mixed_float16\">\n",
            "block1a_se_expand \t float32\t<Policy \"mixed_float16\">\n",
            "block1a_se_excite \t float32\t<Policy \"mixed_float16\">\n",
            "block1a_project_conv \t float32\t<Policy \"mixed_float16\">\n",
            "block1a_project_bn \t float32\t<Policy \"mixed_float16\">\n",
            "block1b_dwconv \t float32\t<Policy \"mixed_float16\">\n",
            "block1b_bn \t float32\t<Policy \"mixed_float16\">\n",
            "block1b_activation \t float32\t<Policy \"mixed_float16\">\n",
            "block1b_se_squeeze \t float32\t<Policy \"mixed_float16\">\n",
            "block1b_se_reshape \t float32\t<Policy \"mixed_float16\">\n",
            "block1b_se_reduce \t float32\t<Policy \"mixed_float16\">\n",
            "block1b_se_expand \t float32\t<Policy \"mixed_float16\">\n",
            "block1b_se_excite \t float32\t<Policy \"mixed_float16\">\n",
            "block1b_project_conv \t float32\t<Policy \"mixed_float16\">\n",
            "block1b_project_bn \t float32\t<Policy \"mixed_float16\">\n",
            "block1b_drop \t float32\t<Policy \"mixed_float16\">\n",
            "block1b_add \t float32\t<Policy \"mixed_float16\">\n",
            "block2a_expand_conv \t float32\t<Policy \"mixed_float16\">\n",
            "block2a_expand_bn \t float32\t<Policy \"mixed_float16\">\n",
            "block2a_expand_activation \t float32\t<Policy \"mixed_float16\">\n",
            "block2a_dwconv_pad \t float32\t<Policy \"mixed_float16\">\n",
            "block2a_dwconv \t float32\t<Policy \"mixed_float16\">\n",
            "block2a_bn \t float32\t<Policy \"mixed_float16\">\n",
            "block2a_activation \t float32\t<Policy \"mixed_float16\">\n",
            "block2a_se_squeeze \t float32\t<Policy \"mixed_float16\">\n",
            "block2a_se_reshape \t float32\t<Policy \"mixed_float16\">\n",
            "block2a_se_reduce \t float32\t<Policy \"mixed_float16\">\n",
            "block2a_se_expand \t float32\t<Policy \"mixed_float16\">\n",
            "block2a_se_excite \t float32\t<Policy \"mixed_float16\">\n",
            "block2a_project_conv \t float32\t<Policy \"mixed_float16\">\n",
            "block2a_project_bn \t float32\t<Policy \"mixed_float16\">\n",
            "block2b_expand_conv \t float32\t<Policy \"mixed_float16\">\n",
            "block2b_expand_bn \t float32\t<Policy \"mixed_float16\">\n",
            "block2b_expand_activation \t float32\t<Policy \"mixed_float16\">\n",
            "block2b_dwconv \t float32\t<Policy \"mixed_float16\">\n",
            "block2b_bn \t float32\t<Policy \"mixed_float16\">\n",
            "block2b_activation \t float32\t<Policy \"mixed_float16\">\n",
            "block2b_se_squeeze \t float32\t<Policy \"mixed_float16\">\n",
            "block2b_se_reshape \t float32\t<Policy \"mixed_float16\">\n",
            "block2b_se_reduce \t float32\t<Policy \"mixed_float16\">\n",
            "block2b_se_expand \t float32\t<Policy \"mixed_float16\">\n",
            "block2b_se_excite \t float32\t<Policy \"mixed_float16\">\n",
            "block2b_project_conv \t float32\t<Policy \"mixed_float16\">\n",
            "block2b_project_bn \t float32\t<Policy \"mixed_float16\">\n",
            "block2b_drop \t float32\t<Policy \"mixed_float16\">\n",
            "block2b_add \t float32\t<Policy \"mixed_float16\">\n",
            "block2c_expand_conv \t float32\t<Policy \"mixed_float16\">\n",
            "block2c_expand_bn \t float32\t<Policy \"mixed_float16\">\n",
            "block2c_expand_activation \t float32\t<Policy \"mixed_float16\">\n",
            "block2c_dwconv \t float32\t<Policy \"mixed_float16\">\n",
            "block2c_bn \t float32\t<Policy \"mixed_float16\">\n",
            "block2c_activation \t float32\t<Policy \"mixed_float16\">\n",
            "block2c_se_squeeze \t float32\t<Policy \"mixed_float16\">\n",
            "block2c_se_reshape \t float32\t<Policy \"mixed_float16\">\n",
            "block2c_se_reduce \t float32\t<Policy \"mixed_float16\">\n",
            "block2c_se_expand \t float32\t<Policy \"mixed_float16\">\n",
            "block2c_se_excite \t float32\t<Policy \"mixed_float16\">\n",
            "block2c_project_conv \t float32\t<Policy \"mixed_float16\">\n",
            "block2c_project_bn \t float32\t<Policy \"mixed_float16\">\n",
            "block2c_drop \t float32\t<Policy \"mixed_float16\">\n",
            "block2c_add \t float32\t<Policy \"mixed_float16\">\n",
            "block2d_expand_conv \t float32\t<Policy \"mixed_float16\">\n",
            "block2d_expand_bn \t float32\t<Policy \"mixed_float16\">\n",
            "block2d_expand_activation \t float32\t<Policy \"mixed_float16\">\n",
            "block2d_dwconv \t float32\t<Policy \"mixed_float16\">\n",
            "block2d_bn \t float32\t<Policy \"mixed_float16\">\n",
            "block2d_activation \t float32\t<Policy \"mixed_float16\">\n",
            "block2d_se_squeeze \t float32\t<Policy \"mixed_float16\">\n",
            "block2d_se_reshape \t float32\t<Policy \"mixed_float16\">\n",
            "block2d_se_reduce \t float32\t<Policy \"mixed_float16\">\n",
            "block2d_se_expand \t float32\t<Policy \"mixed_float16\">\n",
            "block2d_se_excite \t float32\t<Policy \"mixed_float16\">\n",
            "block2d_project_conv \t float32\t<Policy \"mixed_float16\">\n",
            "block2d_project_bn \t float32\t<Policy \"mixed_float16\">\n",
            "block2d_drop \t float32\t<Policy \"mixed_float16\">\n",
            "block2d_add \t float32\t<Policy \"mixed_float16\">\n",
            "block3a_expand_conv \t float32\t<Policy \"mixed_float16\">\n",
            "block3a_expand_bn \t float32\t<Policy \"mixed_float16\">\n",
            "block3a_expand_activation \t float32\t<Policy \"mixed_float16\">\n",
            "block3a_dwconv_pad \t float32\t<Policy \"mixed_float16\">\n",
            "block3a_dwconv \t float32\t<Policy \"mixed_float16\">\n",
            "block3a_bn \t float32\t<Policy \"mixed_float16\">\n",
            "block3a_activation \t float32\t<Policy \"mixed_float16\">\n",
            "block3a_se_squeeze \t float32\t<Policy \"mixed_float16\">\n",
            "block3a_se_reshape \t float32\t<Policy \"mixed_float16\">\n",
            "block3a_se_reduce \t float32\t<Policy \"mixed_float16\">\n",
            "block3a_se_expand \t float32\t<Policy \"mixed_float16\">\n",
            "block3a_se_excite \t float32\t<Policy \"mixed_float16\">\n",
            "block3a_project_conv \t float32\t<Policy \"mixed_float16\">\n",
            "block3a_project_bn \t float32\t<Policy \"mixed_float16\">\n",
            "block3b_expand_conv \t float32\t<Policy \"mixed_float16\">\n",
            "block3b_expand_bn \t float32\t<Policy \"mixed_float16\">\n",
            "block3b_expand_activation \t float32\t<Policy \"mixed_float16\">\n",
            "block3b_dwconv \t float32\t<Policy \"mixed_float16\">\n",
            "block3b_bn \t float32\t<Policy \"mixed_float16\">\n",
            "block3b_activation \t float32\t<Policy \"mixed_float16\">\n",
            "block3b_se_squeeze \t float32\t<Policy \"mixed_float16\">\n",
            "block3b_se_reshape \t float32\t<Policy \"mixed_float16\">\n",
            "block3b_se_reduce \t float32\t<Policy \"mixed_float16\">\n",
            "block3b_se_expand \t float32\t<Policy \"mixed_float16\">\n",
            "block3b_se_excite \t float32\t<Policy \"mixed_float16\">\n",
            "block3b_project_conv \t float32\t<Policy \"mixed_float16\">\n",
            "block3b_project_bn \t float32\t<Policy \"mixed_float16\">\n",
            "block3b_drop \t float32\t<Policy \"mixed_float16\">\n",
            "block3b_add \t float32\t<Policy \"mixed_float16\">\n",
            "block3c_expand_conv \t float32\t<Policy \"mixed_float16\">\n",
            "block3c_expand_bn \t float32\t<Policy \"mixed_float16\">\n",
            "block3c_expand_activation \t float32\t<Policy \"mixed_float16\">\n",
            "block3c_dwconv \t float32\t<Policy \"mixed_float16\">\n",
            "block3c_bn \t float32\t<Policy \"mixed_float16\">\n",
            "block3c_activation \t float32\t<Policy \"mixed_float16\">\n",
            "block3c_se_squeeze \t float32\t<Policy \"mixed_float16\">\n",
            "block3c_se_reshape \t float32\t<Policy \"mixed_float16\">\n",
            "block3c_se_reduce \t float32\t<Policy \"mixed_float16\">\n",
            "block3c_se_expand \t float32\t<Policy \"mixed_float16\">\n",
            "block3c_se_excite \t float32\t<Policy \"mixed_float16\">\n",
            "block3c_project_conv \t float32\t<Policy \"mixed_float16\">\n",
            "block3c_project_bn \t float32\t<Policy \"mixed_float16\">\n",
            "block3c_drop \t float32\t<Policy \"mixed_float16\">\n",
            "block3c_add \t float32\t<Policy \"mixed_float16\">\n",
            "block3d_expand_conv \t float32\t<Policy \"mixed_float16\">\n",
            "block3d_expand_bn \t float32\t<Policy \"mixed_float16\">\n",
            "block3d_expand_activation \t float32\t<Policy \"mixed_float16\">\n",
            "block3d_dwconv \t float32\t<Policy \"mixed_float16\">\n",
            "block3d_bn \t float32\t<Policy \"mixed_float16\">\n",
            "block3d_activation \t float32\t<Policy \"mixed_float16\">\n",
            "block3d_se_squeeze \t float32\t<Policy \"mixed_float16\">\n",
            "block3d_se_reshape \t float32\t<Policy \"mixed_float16\">\n",
            "block3d_se_reduce \t float32\t<Policy \"mixed_float16\">\n",
            "block3d_se_expand \t float32\t<Policy \"mixed_float16\">\n",
            "block3d_se_excite \t float32\t<Policy \"mixed_float16\">\n",
            "block3d_project_conv \t float32\t<Policy \"mixed_float16\">\n",
            "block3d_project_bn \t float32\t<Policy \"mixed_float16\">\n",
            "block3d_drop \t float32\t<Policy \"mixed_float16\">\n",
            "block3d_add \t float32\t<Policy \"mixed_float16\">\n",
            "block4a_expand_conv \t float32\t<Policy \"mixed_float16\">\n",
            "block4a_expand_bn \t float32\t<Policy \"mixed_float16\">\n",
            "block4a_expand_activation \t float32\t<Policy \"mixed_float16\">\n",
            "block4a_dwconv_pad \t float32\t<Policy \"mixed_float16\">\n",
            "block4a_dwconv \t float32\t<Policy \"mixed_float16\">\n",
            "block4a_bn \t float32\t<Policy \"mixed_float16\">\n",
            "block4a_activation \t float32\t<Policy \"mixed_float16\">\n",
            "block4a_se_squeeze \t float32\t<Policy \"mixed_float16\">\n",
            "block4a_se_reshape \t float32\t<Policy \"mixed_float16\">\n",
            "block4a_se_reduce \t float32\t<Policy \"mixed_float16\">\n",
            "block4a_se_expand \t float32\t<Policy \"mixed_float16\">\n",
            "block4a_se_excite \t float32\t<Policy \"mixed_float16\">\n",
            "block4a_project_conv \t float32\t<Policy \"mixed_float16\">\n",
            "block4a_project_bn \t float32\t<Policy \"mixed_float16\">\n",
            "block4b_expand_conv \t float32\t<Policy \"mixed_float16\">\n",
            "block4b_expand_bn \t float32\t<Policy \"mixed_float16\">\n",
            "block4b_expand_activation \t float32\t<Policy \"mixed_float16\">\n",
            "block4b_dwconv \t float32\t<Policy \"mixed_float16\">\n",
            "block4b_bn \t float32\t<Policy \"mixed_float16\">\n",
            "block4b_activation \t float32\t<Policy \"mixed_float16\">\n",
            "block4b_se_squeeze \t float32\t<Policy \"mixed_float16\">\n",
            "block4b_se_reshape \t float32\t<Policy \"mixed_float16\">\n",
            "block4b_se_reduce \t float32\t<Policy \"mixed_float16\">\n",
            "block4b_se_expand \t float32\t<Policy \"mixed_float16\">\n",
            "block4b_se_excite \t float32\t<Policy \"mixed_float16\">\n",
            "block4b_project_conv \t float32\t<Policy \"mixed_float16\">\n",
            "block4b_project_bn \t float32\t<Policy \"mixed_float16\">\n",
            "block4b_drop \t float32\t<Policy \"mixed_float16\">\n",
            "block4b_add \t float32\t<Policy \"mixed_float16\">\n",
            "block4c_expand_conv \t float32\t<Policy \"mixed_float16\">\n",
            "block4c_expand_bn \t float32\t<Policy \"mixed_float16\">\n",
            "block4c_expand_activation \t float32\t<Policy \"mixed_float16\">\n",
            "block4c_dwconv \t float32\t<Policy \"mixed_float16\">\n",
            "block4c_bn \t float32\t<Policy \"mixed_float16\">\n",
            "block4c_activation \t float32\t<Policy \"mixed_float16\">\n",
            "block4c_se_squeeze \t float32\t<Policy \"mixed_float16\">\n",
            "block4c_se_reshape \t float32\t<Policy \"mixed_float16\">\n",
            "block4c_se_reduce \t float32\t<Policy \"mixed_float16\">\n",
            "block4c_se_expand \t float32\t<Policy \"mixed_float16\">\n",
            "block4c_se_excite \t float32\t<Policy \"mixed_float16\">\n",
            "block4c_project_conv \t float32\t<Policy \"mixed_float16\">\n",
            "block4c_project_bn \t float32\t<Policy \"mixed_float16\">\n",
            "block4c_drop \t float32\t<Policy \"mixed_float16\">\n",
            "block4c_add \t float32\t<Policy \"mixed_float16\">\n",
            "block4d_expand_conv \t float32\t<Policy \"mixed_float16\">\n",
            "block4d_expand_bn \t float32\t<Policy \"mixed_float16\">\n",
            "block4d_expand_activation \t float32\t<Policy \"mixed_float16\">\n",
            "block4d_dwconv \t float32\t<Policy \"mixed_float16\">\n",
            "block4d_bn \t float32\t<Policy \"mixed_float16\">\n",
            "block4d_activation \t float32\t<Policy \"mixed_float16\">\n",
            "block4d_se_squeeze \t float32\t<Policy \"mixed_float16\">\n",
            "block4d_se_reshape \t float32\t<Policy \"mixed_float16\">\n",
            "block4d_se_reduce \t float32\t<Policy \"mixed_float16\">\n",
            "block4d_se_expand \t float32\t<Policy \"mixed_float16\">\n",
            "block4d_se_excite \t float32\t<Policy \"mixed_float16\">\n",
            "block4d_project_conv \t float32\t<Policy \"mixed_float16\">\n",
            "block4d_project_bn \t float32\t<Policy \"mixed_float16\">\n",
            "block4d_drop \t float32\t<Policy \"mixed_float16\">\n",
            "block4d_add \t float32\t<Policy \"mixed_float16\">\n",
            "block4e_expand_conv \t float32\t<Policy \"mixed_float16\">\n",
            "block4e_expand_bn \t float32\t<Policy \"mixed_float16\">\n",
            "block4e_expand_activation \t float32\t<Policy \"mixed_float16\">\n",
            "block4e_dwconv \t float32\t<Policy \"mixed_float16\">\n",
            "block4e_bn \t float32\t<Policy \"mixed_float16\">\n",
            "block4e_activation \t float32\t<Policy \"mixed_float16\">\n",
            "block4e_se_squeeze \t float32\t<Policy \"mixed_float16\">\n",
            "block4e_se_reshape \t float32\t<Policy \"mixed_float16\">\n",
            "block4e_se_reduce \t float32\t<Policy \"mixed_float16\">\n",
            "block4e_se_expand \t float32\t<Policy \"mixed_float16\">\n",
            "block4e_se_excite \t float32\t<Policy \"mixed_float16\">\n",
            "block4e_project_conv \t float32\t<Policy \"mixed_float16\">\n",
            "block4e_project_bn \t float32\t<Policy \"mixed_float16\">\n",
            "block4e_drop \t float32\t<Policy \"mixed_float16\">\n",
            "block4e_add \t float32\t<Policy \"mixed_float16\">\n",
            "block4f_expand_conv \t float32\t<Policy \"mixed_float16\">\n",
            "block4f_expand_bn \t float32\t<Policy \"mixed_float16\">\n",
            "block4f_expand_activation \t float32\t<Policy \"mixed_float16\">\n",
            "block4f_dwconv \t float32\t<Policy \"mixed_float16\">\n",
            "block4f_bn \t float32\t<Policy \"mixed_float16\">\n",
            "block4f_activation \t float32\t<Policy \"mixed_float16\">\n",
            "block4f_se_squeeze \t float32\t<Policy \"mixed_float16\">\n",
            "block4f_se_reshape \t float32\t<Policy \"mixed_float16\">\n",
            "block4f_se_reduce \t float32\t<Policy \"mixed_float16\">\n",
            "block4f_se_expand \t float32\t<Policy \"mixed_float16\">\n",
            "block4f_se_excite \t float32\t<Policy \"mixed_float16\">\n",
            "block4f_project_conv \t float32\t<Policy \"mixed_float16\">\n",
            "block4f_project_bn \t float32\t<Policy \"mixed_float16\">\n",
            "block4f_drop \t float32\t<Policy \"mixed_float16\">\n",
            "block4f_add \t float32\t<Policy \"mixed_float16\">\n",
            "block5a_expand_conv \t float32\t<Policy \"mixed_float16\">\n",
            "block5a_expand_bn \t float32\t<Policy \"mixed_float16\">\n",
            "block5a_expand_activation \t float32\t<Policy \"mixed_float16\">\n",
            "block5a_dwconv \t float32\t<Policy \"mixed_float16\">\n",
            "block5a_bn \t float32\t<Policy \"mixed_float16\">\n",
            "block5a_activation \t float32\t<Policy \"mixed_float16\">\n",
            "block5a_se_squeeze \t float32\t<Policy \"mixed_float16\">\n",
            "block5a_se_reshape \t float32\t<Policy \"mixed_float16\">\n",
            "block5a_se_reduce \t float32\t<Policy \"mixed_float16\">\n",
            "block5a_se_expand \t float32\t<Policy \"mixed_float16\">\n",
            "block5a_se_excite \t float32\t<Policy \"mixed_float16\">\n",
            "block5a_project_conv \t float32\t<Policy \"mixed_float16\">\n",
            "block5a_project_bn \t float32\t<Policy \"mixed_float16\">\n",
            "block5b_expand_conv \t float32\t<Policy \"mixed_float16\">\n",
            "block5b_expand_bn \t float32\t<Policy \"mixed_float16\">\n",
            "block5b_expand_activation \t float32\t<Policy \"mixed_float16\">\n",
            "block5b_dwconv \t float32\t<Policy \"mixed_float16\">\n",
            "block5b_bn \t float32\t<Policy \"mixed_float16\">\n",
            "block5b_activation \t float32\t<Policy \"mixed_float16\">\n",
            "block5b_se_squeeze \t float32\t<Policy \"mixed_float16\">\n",
            "block5b_se_reshape \t float32\t<Policy \"mixed_float16\">\n",
            "block5b_se_reduce \t float32\t<Policy \"mixed_float16\">\n",
            "block5b_se_expand \t float32\t<Policy \"mixed_float16\">\n",
            "block5b_se_excite \t float32\t<Policy \"mixed_float16\">\n",
            "block5b_project_conv \t float32\t<Policy \"mixed_float16\">\n",
            "block5b_project_bn \t float32\t<Policy \"mixed_float16\">\n",
            "block5b_drop \t float32\t<Policy \"mixed_float16\">\n",
            "block5b_add \t float32\t<Policy \"mixed_float16\">\n",
            "block5c_expand_conv \t float32\t<Policy \"mixed_float16\">\n",
            "block5c_expand_bn \t float32\t<Policy \"mixed_float16\">\n",
            "block5c_expand_activation \t float32\t<Policy \"mixed_float16\">\n",
            "block5c_dwconv \t float32\t<Policy \"mixed_float16\">\n",
            "block5c_bn \t float32\t<Policy \"mixed_float16\">\n",
            "block5c_activation \t float32\t<Policy \"mixed_float16\">\n",
            "block5c_se_squeeze \t float32\t<Policy \"mixed_float16\">\n",
            "block5c_se_reshape \t float32\t<Policy \"mixed_float16\">\n",
            "block5c_se_reduce \t float32\t<Policy \"mixed_float16\">\n",
            "block5c_se_expand \t float32\t<Policy \"mixed_float16\">\n",
            "block5c_se_excite \t float32\t<Policy \"mixed_float16\">\n",
            "block5c_project_conv \t float32\t<Policy \"mixed_float16\">\n",
            "block5c_project_bn \t float32\t<Policy \"mixed_float16\">\n",
            "block5c_drop \t float32\t<Policy \"mixed_float16\">\n",
            "block5c_add \t float32\t<Policy \"mixed_float16\">\n",
            "block5d_expand_conv \t float32\t<Policy \"mixed_float16\">\n",
            "block5d_expand_bn \t float32\t<Policy \"mixed_float16\">\n",
            "block5d_expand_activation \t float32\t<Policy \"mixed_float16\">\n",
            "block5d_dwconv \t float32\t<Policy \"mixed_float16\">\n",
            "block5d_bn \t float32\t<Policy \"mixed_float16\">\n",
            "block5d_activation \t float32\t<Policy \"mixed_float16\">\n",
            "block5d_se_squeeze \t float32\t<Policy \"mixed_float16\">\n",
            "block5d_se_reshape \t float32\t<Policy \"mixed_float16\">\n",
            "block5d_se_reduce \t float32\t<Policy \"mixed_float16\">\n",
            "block5d_se_expand \t float32\t<Policy \"mixed_float16\">\n",
            "block5d_se_excite \t float32\t<Policy \"mixed_float16\">\n",
            "block5d_project_conv \t float32\t<Policy \"mixed_float16\">\n",
            "block5d_project_bn \t float32\t<Policy \"mixed_float16\">\n",
            "block5d_drop \t float32\t<Policy \"mixed_float16\">\n",
            "block5d_add \t float32\t<Policy \"mixed_float16\">\n",
            "block5e_expand_conv \t float32\t<Policy \"mixed_float16\">\n",
            "block5e_expand_bn \t float32\t<Policy \"mixed_float16\">\n",
            "block5e_expand_activation \t float32\t<Policy \"mixed_float16\">\n",
            "block5e_dwconv \t float32\t<Policy \"mixed_float16\">\n",
            "block5e_bn \t float32\t<Policy \"mixed_float16\">\n",
            "block5e_activation \t float32\t<Policy \"mixed_float16\">\n",
            "block5e_se_squeeze \t float32\t<Policy \"mixed_float16\">\n",
            "block5e_se_reshape \t float32\t<Policy \"mixed_float16\">\n",
            "block5e_se_reduce \t float32\t<Policy \"mixed_float16\">\n",
            "block5e_se_expand \t float32\t<Policy \"mixed_float16\">\n",
            "block5e_se_excite \t float32\t<Policy \"mixed_float16\">\n",
            "block5e_project_conv \t float32\t<Policy \"mixed_float16\">\n",
            "block5e_project_bn \t float32\t<Policy \"mixed_float16\">\n",
            "block5e_drop \t float32\t<Policy \"mixed_float16\">\n",
            "block5e_add \t float32\t<Policy \"mixed_float16\">\n",
            "block5f_expand_conv \t float32\t<Policy \"mixed_float16\">\n",
            "block5f_expand_bn \t float32\t<Policy \"mixed_float16\">\n",
            "block5f_expand_activation \t float32\t<Policy \"mixed_float16\">\n",
            "block5f_dwconv \t float32\t<Policy \"mixed_float16\">\n",
            "block5f_bn \t float32\t<Policy \"mixed_float16\">\n",
            "block5f_activation \t float32\t<Policy \"mixed_float16\">\n",
            "block5f_se_squeeze \t float32\t<Policy \"mixed_float16\">\n",
            "block5f_se_reshape \t float32\t<Policy \"mixed_float16\">\n",
            "block5f_se_reduce \t float32\t<Policy \"mixed_float16\">\n",
            "block5f_se_expand \t float32\t<Policy \"mixed_float16\">\n",
            "block5f_se_excite \t float32\t<Policy \"mixed_float16\">\n",
            "block5f_project_conv \t float32\t<Policy \"mixed_float16\">\n",
            "block5f_project_bn \t float32\t<Policy \"mixed_float16\">\n",
            "block5f_drop \t float32\t<Policy \"mixed_float16\">\n",
            "block5f_add \t float32\t<Policy \"mixed_float16\">\n",
            "block6a_expand_conv \t float32\t<Policy \"mixed_float16\">\n",
            "block6a_expand_bn \t float32\t<Policy \"mixed_float16\">\n",
            "block6a_expand_activation \t float32\t<Policy \"mixed_float16\">\n",
            "block6a_dwconv_pad \t float32\t<Policy \"mixed_float16\">\n",
            "block6a_dwconv \t float32\t<Policy \"mixed_float16\">\n",
            "block6a_bn \t float32\t<Policy \"mixed_float16\">\n",
            "block6a_activation \t float32\t<Policy \"mixed_float16\">\n",
            "block6a_se_squeeze \t float32\t<Policy \"mixed_float16\">\n",
            "block6a_se_reshape \t float32\t<Policy \"mixed_float16\">\n",
            "block6a_se_reduce \t float32\t<Policy \"mixed_float16\">\n",
            "block6a_se_expand \t float32\t<Policy \"mixed_float16\">\n",
            "block6a_se_excite \t float32\t<Policy \"mixed_float16\">\n",
            "block6a_project_conv \t float32\t<Policy \"mixed_float16\">\n",
            "block6a_project_bn \t float32\t<Policy \"mixed_float16\">\n",
            "block6b_expand_conv \t float32\t<Policy \"mixed_float16\">\n",
            "block6b_expand_bn \t float32\t<Policy \"mixed_float16\">\n",
            "block6b_expand_activation \t float32\t<Policy \"mixed_float16\">\n",
            "block6b_dwconv \t float32\t<Policy \"mixed_float16\">\n",
            "block6b_bn \t float32\t<Policy \"mixed_float16\">\n",
            "block6b_activation \t float32\t<Policy \"mixed_float16\">\n",
            "block6b_se_squeeze \t float32\t<Policy \"mixed_float16\">\n",
            "block6b_se_reshape \t float32\t<Policy \"mixed_float16\">\n",
            "block6b_se_reduce \t float32\t<Policy \"mixed_float16\">\n",
            "block6b_se_expand \t float32\t<Policy \"mixed_float16\">\n",
            "block6b_se_excite \t float32\t<Policy \"mixed_float16\">\n",
            "block6b_project_conv \t float32\t<Policy \"mixed_float16\">\n",
            "block6b_project_bn \t float32\t<Policy \"mixed_float16\">\n",
            "block6b_drop \t float32\t<Policy \"mixed_float16\">\n",
            "block6b_add \t float32\t<Policy \"mixed_float16\">\n",
            "block6c_expand_conv \t float32\t<Policy \"mixed_float16\">\n",
            "block6c_expand_bn \t float32\t<Policy \"mixed_float16\">\n",
            "block6c_expand_activation \t float32\t<Policy \"mixed_float16\">\n",
            "block6c_dwconv \t float32\t<Policy \"mixed_float16\">\n",
            "block6c_bn \t float32\t<Policy \"mixed_float16\">\n",
            "block6c_activation \t float32\t<Policy \"mixed_float16\">\n",
            "block6c_se_squeeze \t float32\t<Policy \"mixed_float16\">\n",
            "block6c_se_reshape \t float32\t<Policy \"mixed_float16\">\n",
            "block6c_se_reduce \t float32\t<Policy \"mixed_float16\">\n",
            "block6c_se_expand \t float32\t<Policy \"mixed_float16\">\n",
            "block6c_se_excite \t float32\t<Policy \"mixed_float16\">\n",
            "block6c_project_conv \t float32\t<Policy \"mixed_float16\">\n",
            "block6c_project_bn \t float32\t<Policy \"mixed_float16\">\n",
            "block6c_drop \t float32\t<Policy \"mixed_float16\">\n",
            "block6c_add \t float32\t<Policy \"mixed_float16\">\n",
            "block6d_expand_conv \t float32\t<Policy \"mixed_float16\">\n",
            "block6d_expand_bn \t float32\t<Policy \"mixed_float16\">\n",
            "block6d_expand_activation \t float32\t<Policy \"mixed_float16\">\n",
            "block6d_dwconv \t float32\t<Policy \"mixed_float16\">\n",
            "block6d_bn \t float32\t<Policy \"mixed_float16\">\n",
            "block6d_activation \t float32\t<Policy \"mixed_float16\">\n",
            "block6d_se_squeeze \t float32\t<Policy \"mixed_float16\">\n",
            "block6d_se_reshape \t float32\t<Policy \"mixed_float16\">\n",
            "block6d_se_reduce \t float32\t<Policy \"mixed_float16\">\n",
            "block6d_se_expand \t float32\t<Policy \"mixed_float16\">\n",
            "block6d_se_excite \t float32\t<Policy \"mixed_float16\">\n",
            "block6d_project_conv \t float32\t<Policy \"mixed_float16\">\n",
            "block6d_project_bn \t float32\t<Policy \"mixed_float16\">\n",
            "block6d_drop \t float32\t<Policy \"mixed_float16\">\n",
            "block6d_add \t float32\t<Policy \"mixed_float16\">\n",
            "block6e_expand_conv \t float32\t<Policy \"mixed_float16\">\n",
            "block6e_expand_bn \t float32\t<Policy \"mixed_float16\">\n",
            "block6e_expand_activation \t float32\t<Policy \"mixed_float16\">\n",
            "block6e_dwconv \t float32\t<Policy \"mixed_float16\">\n",
            "block6e_bn \t float32\t<Policy \"mixed_float16\">\n",
            "block6e_activation \t float32\t<Policy \"mixed_float16\">\n",
            "block6e_se_squeeze \t float32\t<Policy \"mixed_float16\">\n",
            "block6e_se_reshape \t float32\t<Policy \"mixed_float16\">\n",
            "block6e_se_reduce \t float32\t<Policy \"mixed_float16\">\n",
            "block6e_se_expand \t float32\t<Policy \"mixed_float16\">\n",
            "block6e_se_excite \t float32\t<Policy \"mixed_float16\">\n",
            "block6e_project_conv \t float32\t<Policy \"mixed_float16\">\n",
            "block6e_project_bn \t float32\t<Policy \"mixed_float16\">\n",
            "block6e_drop \t float32\t<Policy \"mixed_float16\">\n",
            "block6e_add \t float32\t<Policy \"mixed_float16\">\n",
            "block6f_expand_conv \t float32\t<Policy \"mixed_float16\">\n",
            "block6f_expand_bn \t float32\t<Policy \"mixed_float16\">\n",
            "block6f_expand_activation \t float32\t<Policy \"mixed_float16\">\n",
            "block6f_dwconv \t float32\t<Policy \"mixed_float16\">\n",
            "block6f_bn \t float32\t<Policy \"mixed_float16\">\n",
            "block6f_activation \t float32\t<Policy \"mixed_float16\">\n",
            "block6f_se_squeeze \t float32\t<Policy \"mixed_float16\">\n",
            "block6f_se_reshape \t float32\t<Policy \"mixed_float16\">\n",
            "block6f_se_reduce \t float32\t<Policy \"mixed_float16\">\n",
            "block6f_se_expand \t float32\t<Policy \"mixed_float16\">\n",
            "block6f_se_excite \t float32\t<Policy \"mixed_float16\">\n",
            "block6f_project_conv \t float32\t<Policy \"mixed_float16\">\n",
            "block6f_project_bn \t float32\t<Policy \"mixed_float16\">\n",
            "block6f_drop \t float32\t<Policy \"mixed_float16\">\n",
            "block6f_add \t float32\t<Policy \"mixed_float16\">\n",
            "block6g_expand_conv \t float32\t<Policy \"mixed_float16\">\n",
            "block6g_expand_bn \t float32\t<Policy \"mixed_float16\">\n",
            "block6g_expand_activation \t float32\t<Policy \"mixed_float16\">\n",
            "block6g_dwconv \t float32\t<Policy \"mixed_float16\">\n",
            "block6g_bn \t float32\t<Policy \"mixed_float16\">\n",
            "block6g_activation \t float32\t<Policy \"mixed_float16\">\n",
            "block6g_se_squeeze \t float32\t<Policy \"mixed_float16\">\n",
            "block6g_se_reshape \t float32\t<Policy \"mixed_float16\">\n",
            "block6g_se_reduce \t float32\t<Policy \"mixed_float16\">\n",
            "block6g_se_expand \t float32\t<Policy \"mixed_float16\">\n",
            "block6g_se_excite \t float32\t<Policy \"mixed_float16\">\n",
            "block6g_project_conv \t float32\t<Policy \"mixed_float16\">\n",
            "block6g_project_bn \t float32\t<Policy \"mixed_float16\">\n",
            "block6g_drop \t float32\t<Policy \"mixed_float16\">\n",
            "block6g_add \t float32\t<Policy \"mixed_float16\">\n",
            "block6h_expand_conv \t float32\t<Policy \"mixed_float16\">\n",
            "block6h_expand_bn \t float32\t<Policy \"mixed_float16\">\n",
            "block6h_expand_activation \t float32\t<Policy \"mixed_float16\">\n",
            "block6h_dwconv \t float32\t<Policy \"mixed_float16\">\n",
            "block6h_bn \t float32\t<Policy \"mixed_float16\">\n",
            "block6h_activation \t float32\t<Policy \"mixed_float16\">\n",
            "block6h_se_squeeze \t float32\t<Policy \"mixed_float16\">\n",
            "block6h_se_reshape \t float32\t<Policy \"mixed_float16\">\n",
            "block6h_se_reduce \t float32\t<Policy \"mixed_float16\">\n",
            "block6h_se_expand \t float32\t<Policy \"mixed_float16\">\n",
            "block6h_se_excite \t float32\t<Policy \"mixed_float16\">\n",
            "block6h_project_conv \t float32\t<Policy \"mixed_float16\">\n",
            "block6h_project_bn \t float32\t<Policy \"mixed_float16\">\n",
            "block6h_drop \t float32\t<Policy \"mixed_float16\">\n",
            "block6h_add \t float32\t<Policy \"mixed_float16\">\n",
            "block7a_expand_conv \t float32\t<Policy \"mixed_float16\">\n",
            "block7a_expand_bn \t float32\t<Policy \"mixed_float16\">\n",
            "block7a_expand_activation \t float32\t<Policy \"mixed_float16\">\n",
            "block7a_dwconv \t float32\t<Policy \"mixed_float16\">\n",
            "block7a_bn \t float32\t<Policy \"mixed_float16\">\n",
            "block7a_activation \t float32\t<Policy \"mixed_float16\">\n",
            "block7a_se_squeeze \t float32\t<Policy \"mixed_float16\">\n",
            "block7a_se_reshape \t float32\t<Policy \"mixed_float16\">\n",
            "block7a_se_reduce \t float32\t<Policy \"mixed_float16\">\n",
            "block7a_se_expand \t float32\t<Policy \"mixed_float16\">\n",
            "block7a_se_excite \t float32\t<Policy \"mixed_float16\">\n",
            "block7a_project_conv \t float32\t<Policy \"mixed_float16\">\n",
            "block7a_project_bn \t float32\t<Policy \"mixed_float16\">\n",
            "block7b_expand_conv \t float32\t<Policy \"mixed_float16\">\n",
            "block7b_expand_bn \t float32\t<Policy \"mixed_float16\">\n",
            "block7b_expand_activation \t float32\t<Policy \"mixed_float16\">\n",
            "block7b_dwconv \t float32\t<Policy \"mixed_float16\">\n",
            "block7b_bn \t float32\t<Policy \"mixed_float16\">\n",
            "block7b_activation \t float32\t<Policy \"mixed_float16\">\n",
            "block7b_se_squeeze \t float32\t<Policy \"mixed_float16\">\n",
            "block7b_se_reshape \t float32\t<Policy \"mixed_float16\">\n",
            "block7b_se_reduce \t float32\t<Policy \"mixed_float16\">\n",
            "block7b_se_expand \t float32\t<Policy \"mixed_float16\">\n",
            "block7b_se_excite \t float32\t<Policy \"mixed_float16\">\n",
            "block7b_project_conv \t float32\t<Policy \"mixed_float16\">\n",
            "block7b_project_bn \t float32\t<Policy \"mixed_float16\">\n",
            "block7b_drop \t float32\t<Policy \"mixed_float16\">\n",
            "block7b_add \t float32\t<Policy \"mixed_float16\">\n",
            "top_conv \t float32\t<Policy \"mixed_float16\">\n",
            "top_bn \t float32\t<Policy \"mixed_float16\">\n",
            "top_activation \t float32\t<Policy \"mixed_float16\">\n"
          ]
        }
      ]
    },
    {
      "cell_type": "code",
      "source": [
        "history = model.fit(train_data,\n",
        "                    epochs=5,\n",
        "                    steps_per_epoch=len(train_data),\n",
        "                    validation_data=test_data,\n",
        "                    validation_steps = int(0.1 * len(test_data)),\n",
        "                    callbacks = [tensorboard_callback, checkpoint, early_stopping])"
      ],
      "metadata": {
        "colab": {
          "base_uri": "https://localhost:8080/"
        },
        "id": "gjFqoRY2aMsS",
        "outputId": "8d5924e4-21b4-4425-d8c3-bc8ca254412e"
      },
      "execution_count": null,
      "outputs": [
        {
          "output_type": "stream",
          "name": "stdout",
          "text": [
            "Epoch 1/5\n",
            "2368/2368 [==============================] - 408s 161ms/step - loss: 2.2891 - accuracy: 0.4452 - val_loss: 1.5143 - val_accuracy: 0.6036\n",
            "Epoch 2/5\n",
            "2368/2368 [==============================] - 323s 135ms/step - loss: 1.8522 - accuracy: 0.5327 - val_loss: 1.4002 - val_accuracy: 0.6278\n",
            "Epoch 3/5\n",
            "2368/2368 [==============================] - 298s 125ms/step - loss: 1.7335 - accuracy: 0.5579 - val_loss: 1.3483 - val_accuracy: 0.6396\n",
            "Epoch 4/5\n",
            "2368/2368 [==============================] - 293s 122ms/step - loss: 1.6645 - accuracy: 0.5742 - val_loss: 1.3378 - val_accuracy: 0.6432\n",
            "Epoch 5/5\n",
            "2368/2368 [==============================] - 296s 124ms/step - loss: 1.5992 - accuracy: 0.5880 - val_loss: 1.3266 - val_accuracy: 0.6519\n"
          ]
        }
      ]
    },
    {
      "cell_type": "code",
      "source": [
        "model.evaluate(test_data)"
      ],
      "metadata": {
        "colab": {
          "base_uri": "https://localhost:8080/"
        },
        "id": "PWrDjYrEbyQW",
        "outputId": "a2928517-a7b3-49d8-94c5-8187bce14197"
      },
      "execution_count": null,
      "outputs": [
        {
          "output_type": "stream",
          "name": "stdout",
          "text": [
            "790/790 [==============================] - 88s 112ms/step - loss: 1.3185 - accuracy: 0.6456\n"
          ]
        },
        {
          "output_type": "execute_result",
          "data": {
            "text/plain": [
              "[1.3184764385223389, 0.6455841660499573]"
            ]
          },
          "metadata": {},
          "execution_count": 63
        }
      ]
    },
    {
      "cell_type": "code",
      "source": [
        "plot_loss_curves(history)"
      ],
      "metadata": {
        "colab": {
          "base_uri": "https://localhost:8080/",
          "height": 573
        },
        "id": "SkGv8txxcNsY",
        "outputId": "e5059e36-7d58-4ab6-d97a-1bc677969aa2"
      },
      "execution_count": null,
      "outputs": [
        {
          "output_type": "display_data",
          "data": {
            "text/plain": [
              "<Figure size 432x288 with 1 Axes>"
            ],
            "image/png": "[encoded data removed]"
          },
          "metadata": {
            "needs_background": "light"
          }
        },
        {
          "output_type": "display_data",
          "data": {
            "text/plain": [
              "<Figure size 432x288 with 1 Axes>"
            ],
            "image/png": "[encoded data removed]"
          },
          "metadata": {
            "needs_background": "light"
          }
        }
      ]
    },
    {
      "cell_type": "code",
      "source": [
        "for layer in base_model.layers:\n",
        "  if \"block7\" in layer.name:\n",
        "    layer.trainable=True\n",
        "\n",
        "model.compile(loss=tf.keras.losses.SparseCategoricalCrossentropy(),\n",
        "              optimizer=tf.keras.optimizers.Adam(learning_rate=1e-4),\n",
        "              metrics=[\"accuracy\"])\n",
        "\n",
        "print(model.optimizer.learning_rate)\n",
        "for i, layer in enumerate(model.layers[2].layers):\n",
        "  print(i, layer.name, layer.trainable)\n",
        "\n",
        "checkpoint_2 = tf.keras.callbacks.ModelCheckpoint(\"models/checkpoints/big_check_2.h5\",\n",
        "                                                save_best_only=True,\n",
        "                                                monitor=\"val_accuracy\",\n",
        "                                                verbose=0)\n",
        "\n",
        "tensorboard_callback_2 = create_tensorboard_callback(\"tensorboard_logs\", \"Big_Boy_2\")\n",
        "\n",
        "early_stopping = tf.keras.callbacks.EarlyStopping(monitor='val_loss',\n",
        "                                                   patience=3)"
      ],
      "metadata": {
        "colab": {
          "base_uri": "https://localhost:8080/"
        },
        "id": "2KTTQegshyGQ",
        "outputId": "4b7e8be0-326d-4277-fe93-2785ec5bd4cd"
      },
      "execution_count": null,
      "outputs": [
        {
          "output_type": "stream",
          "name": "stdout",
          "text": [
            "<tf.Variable 'learning_rate:0' shape=() dtype=float32, numpy=1e-04>\n",
            "0 input_3 False\n",
            "1 rescaling_2 False\n",
            "2 normalization_2 False\n",
            "3 stem_conv_pad False\n",
            "4 stem_conv False\n",
            "5 stem_bn False\n",
            "6 stem_activation False\n",
            "7 block1a_dwconv False\n",
            "8 block1a_bn False\n",
            "9 block1a_activation False\n",
            "10 block1a_se_squeeze False\n",
            "11 block1a_se_reshape False\n",
            "12 block1a_se_reduce False\n",
            "13 block1a_se_expand False\n",
            "14 block1a_se_excite False\n",
            "15 block1a_project_conv False\n",
            "16 block1a_project_bn False\n",
            "17 block1b_dwconv False\n",
            "18 block1b_bn False\n",
            "19 block1b_activation False\n",
            "20 block1b_se_squeeze False\n",
            "21 block1b_se_reshape False\n",
            "22 block1b_se_reduce False\n",
            "23 block1b_se_expand False\n",
            "24 block1b_se_excite False\n",
            "25 block1b_project_conv False\n",
            "26 block1b_project_bn False\n",
            "27 block1b_drop False\n",
            "28 block1b_add False\n",
            "29 block2a_expand_conv False\n",
            "30 block2a_expand_bn False\n",
            "31 block2a_expand_activation False\n",
            "32 block2a_dwconv_pad False\n",
            "33 block2a_dwconv False\n",
            "34 block2a_bn False\n",
            "35 block2a_activation False\n",
            "36 block2a_se_squeeze False\n",
            "37 block2a_se_reshape False\n",
            "38 block2a_se_reduce False\n",
            "39 block2a_se_expand False\n",
            "40 block2a_se_excite False\n",
            "41 block2a_project_conv False\n",
            "42 block2a_project_bn False\n",
            "43 block2b_expand_conv False\n",
            "44 block2b_expand_bn False\n",
            "45 block2b_expand_activation False\n",
            "46 block2b_dwconv False\n",
            "47 block2b_bn False\n",
            "48 block2b_activation False\n",
            "49 block2b_se_squeeze False\n",
            "50 block2b_se_reshape False\n",
            "51 block2b_se_reduce False\n",
            "52 block2b_se_expand False\n",
            "53 block2b_se_excite False\n",
            "54 block2b_project_conv False\n",
            "55 block2b_project_bn False\n",
            "56 block2b_drop False\n",
            "57 block2b_add False\n",
            "58 block2c_expand_conv False\n",
            "59 block2c_expand_bn False\n",
            "60 block2c_expand_activation False\n",
            "61 block2c_dwconv False\n",
            "62 block2c_bn False\n",
            "63 block2c_activation False\n",
            "64 block2c_se_squeeze False\n",
            "65 block2c_se_reshape False\n",
            "66 block2c_se_reduce False\n",
            "67 block2c_se_expand False\n",
            "68 block2c_se_excite False\n",
            "69 block2c_project_conv False\n",
            "70 block2c_project_bn False\n",
            "71 block2c_drop False\n",
            "72 block2c_add False\n",
            "73 block2d_expand_conv False\n",
            "74 block2d_expand_bn False\n",
            "75 block2d_expand_activation False\n",
            "76 block2d_dwconv False\n",
            "77 block2d_bn False\n",
            "78 block2d_activation False\n",
            "79 block2d_se_squeeze False\n",
            "80 block2d_se_reshape False\n",
            "81 block2d_se_reduce False\n",
            "82 block2d_se_expand False\n",
            "83 block2d_se_excite False\n",
            "84 block2d_project_conv False\n",
            "85 block2d_project_bn False\n",
            "86 block2d_drop False\n",
            "87 block2d_add False\n",
            "88 block3a_expand_conv False\n",
            "89 block3a_expand_bn False\n",
            "90 block3a_expand_activation False\n",
            "91 block3a_dwconv_pad False\n",
            "92 block3a_dwconv False\n",
            "93 block3a_bn False\n",
            "94 block3a_activation False\n",
            "95 block3a_se_squeeze False\n",
            "96 block3a_se_reshape False\n",
            "97 block3a_se_reduce False\n",
            "98 block3a_se_expand False\n",
            "99 block3a_se_excite False\n",
            "100 block3a_project_conv False\n",
            "101 block3a_project_bn False\n",
            "102 block3b_expand_conv False\n",
            "103 block3b_expand_bn False\n",
            "104 block3b_expand_activation False\n",
            "105 block3b_dwconv False\n",
            "106 block3b_bn False\n",
            "107 block3b_activation False\n",
            "108 block3b_se_squeeze False\n",
            "109 block3b_se_reshape False\n",
            "110 block3b_se_reduce False\n",
            "111 block3b_se_expand False\n",
            "112 block3b_se_excite False\n",
            "113 block3b_project_conv False\n",
            "114 block3b_project_bn False\n",
            "115 block3b_drop False\n",
            "116 block3b_add False\n",
            "117 block3c_expand_conv False\n",
            "118 block3c_expand_bn False\n",
            "119 block3c_expand_activation False\n",
            "120 block3c_dwconv False\n",
            "121 block3c_bn False\n",
            "122 block3c_activation False\n",
            "123 block3c_se_squeeze False\n",
            "124 block3c_se_reshape False\n",
            "125 block3c_se_reduce False\n",
            "126 block3c_se_expand False\n",
            "127 block3c_se_excite False\n",
            "128 block3c_project_conv False\n",
            "129 block3c_project_bn False\n",
            "130 block3c_drop False\n",
            "131 block3c_add False\n",
            "132 block3d_expand_conv False\n",
            "133 block3d_expand_bn False\n",
            "134 block3d_expand_activation False\n",
            "135 block3d_dwconv False\n",
            "136 block3d_bn False\n",
            "137 block3d_activation False\n",
            "138 block3d_se_squeeze False\n",
            "139 block3d_se_reshape False\n",
            "140 block3d_se_reduce False\n",
            "141 block3d_se_expand False\n",
            "142 block3d_se_excite False\n",
            "143 block3d_project_conv False\n",
            "144 block3d_project_bn False\n",
            "145 block3d_drop False\n",
            "146 block3d_add False\n",
            "147 block4a_expand_conv False\n",
            "148 block4a_expand_bn False\n",
            "149 block4a_expand_activation False\n",
            "150 block4a_dwconv_pad False\n",
            "151 block4a_dwconv False\n",
            "152 block4a_bn False\n",
            "153 block4a_activation False\n",
            "154 block4a_se_squeeze False\n",
            "155 block4a_se_reshape False\n",
            "156 block4a_se_reduce False\n",
            "157 block4a_se_expand False\n",
            "158 block4a_se_excite False\n",
            "159 block4a_project_conv False\n",
            "160 block4a_project_bn False\n",
            "161 block4b_expand_conv False\n",
            "162 block4b_expand_bn False\n",
            "163 block4b_expand_activation False\n",
            "164 block4b_dwconv False\n",
            "165 block4b_bn False\n",
            "166 block4b_activation False\n",
            "167 block4b_se_squeeze False\n",
            "168 block4b_se_reshape False\n",
            "169 block4b_se_reduce False\n",
            "170 block4b_se_expand False\n",
            "171 block4b_se_excite False\n",
            "172 block4b_project_conv False\n",
            "173 block4b_project_bn False\n",
            "174 block4b_drop False\n",
            "175 block4b_add False\n",
            "176 block4c_expand_conv False\n",
            "177 block4c_expand_bn False\n",
            "178 block4c_expand_activation False\n",
            "179 block4c_dwconv False\n",
            "180 block4c_bn False\n",
            "181 block4c_activation False\n",
            "182 block4c_se_squeeze False\n",
            "183 block4c_se_reshape False\n",
            "184 block4c_se_reduce False\n",
            "185 block4c_se_expand False\n",
            "186 block4c_se_excite False\n",
            "187 block4c_project_conv False\n",
            "188 block4c_project_bn False\n",
            "189 block4c_drop False\n",
            "190 block4c_add False\n",
            "191 block4d_expand_conv False\n",
            "192 block4d_expand_bn False\n",
            "193 block4d_expand_activation False\n",
            "194 block4d_dwconv False\n",
            "195 block4d_bn False\n",
            "196 block4d_activation False\n",
            "197 block4d_se_squeeze False\n",
            "198 block4d_se_reshape False\n",
            "199 block4d_se_reduce False\n",
            "200 block4d_se_expand False\n",
            "201 block4d_se_excite False\n",
            "202 block4d_project_conv False\n",
            "203 block4d_project_bn False\n",
            "204 block4d_drop False\n",
            "205 block4d_add False\n",
            "206 block4e_expand_conv False\n",
            "207 block4e_expand_bn False\n",
            "208 block4e_expand_activation False\n",
            "209 block4e_dwconv False\n",
            "210 block4e_bn False\n",
            "211 block4e_activation False\n",
            "212 block4e_se_squeeze False\n",
            "213 block4e_se_reshape False\n",
            "214 block4e_se_reduce False\n",
            "215 block4e_se_expand False\n",
            "216 block4e_se_excite False\n",
            "217 block4e_project_conv False\n",
            "218 block4e_project_bn False\n",
            "219 block4e_drop False\n",
            "220 block4e_add False\n",
            "221 block4f_expand_conv False\n",
            "222 block4f_expand_bn False\n",
            "223 block4f_expand_activation False\n",
            "224 block4f_dwconv False\n",
            "225 block4f_bn False\n",
            "226 block4f_activation False\n",
            "227 block4f_se_squeeze False\n",
            "228 block4f_se_reshape False\n",
            "229 block4f_se_reduce False\n",
            "230 block4f_se_expand False\n",
            "231 block4f_se_excite False\n",
            "232 block4f_project_conv False\n",
            "233 block4f_project_bn False\n",
            "234 block4f_drop False\n",
            "235 block4f_add False\n",
            "236 block5a_expand_conv False\n",
            "237 block5a_expand_bn False\n",
            "238 block5a_expand_activation False\n",
            "239 block5a_dwconv False\n",
            "240 block5a_bn False\n",
            "241 block5a_activation False\n",
            "242 block5a_se_squeeze False\n",
            "243 block5a_se_reshape False\n",
            "244 block5a_se_reduce False\n",
            "245 block5a_se_expand False\n",
            "246 block5a_se_excite False\n",
            "247 block5a_project_conv False\n",
            "248 block5a_project_bn False\n",
            "249 block5b_expand_conv False\n",
            "250 block5b_expand_bn False\n",
            "251 block5b_expand_activation False\n",
            "252 block5b_dwconv False\n",
            "253 block5b_bn False\n",
            "254 block5b_activation False\n",
            "255 block5b_se_squeeze False\n",
            "256 block5b_se_reshape False\n",
            "257 block5b_se_reduce False\n",
            "258 block5b_se_expand False\n",
            "259 block5b_se_excite False\n",
            "260 block5b_project_conv False\n",
            "261 block5b_project_bn False\n",
            "262 block5b_drop False\n",
            "263 block5b_add False\n",
            "264 block5c_expand_conv False\n",
            "265 block5c_expand_bn False\n",
            "266 block5c_expand_activation False\n",
            "267 block5c_dwconv False\n",
            "268 block5c_bn False\n",
            "269 block5c_activation False\n",
            "270 block5c_se_squeeze False\n",
            "271 block5c_se_reshape False\n",
            "272 block5c_se_reduce False\n",
            "273 block5c_se_expand False\n",
            "274 block5c_se_excite False\n",
            "275 block5c_project_conv False\n",
            "276 block5c_project_bn False\n",
            "277 block5c_drop False\n",
            "278 block5c_add False\n",
            "279 block5d_expand_conv False\n",
            "280 block5d_expand_bn False\n",
            "281 block5d_expand_activation False\n",
            "282 block5d_dwconv False\n",
            "283 block5d_bn False\n",
            "284 block5d_activation False\n",
            "285 block5d_se_squeeze False\n",
            "286 block5d_se_reshape False\n",
            "287 block5d_se_reduce False\n",
            "288 block5d_se_expand False\n",
            "289 block5d_se_excite False\n",
            "290 block5d_project_conv False\n",
            "291 block5d_project_bn False\n",
            "292 block5d_drop False\n",
            "293 block5d_add False\n",
            "294 block5e_expand_conv False\n",
            "295 block5e_expand_bn False\n",
            "296 block5e_expand_activation False\n",
            "297 block5e_dwconv False\n",
            "298 block5e_bn False\n",
            "299 block5e_activation False\n",
            "300 block5e_se_squeeze False\n",
            "301 block5e_se_reshape False\n",
            "302 block5e_se_reduce False\n",
            "303 block5e_se_expand False\n",
            "304 block5e_se_excite False\n",
            "305 block5e_project_conv False\n",
            "306 block5e_project_bn False\n",
            "307 block5e_drop False\n",
            "308 block5e_add False\n",
            "309 block5f_expand_conv False\n",
            "310 block5f_expand_bn False\n",
            "311 block5f_expand_activation False\n",
            "312 block5f_dwconv False\n",
            "313 block5f_bn False\n",
            "314 block5f_activation False\n",
            "315 block5f_se_squeeze False\n",
            "316 block5f_se_reshape False\n",
            "317 block5f_se_reduce False\n",
            "318 block5f_se_expand False\n",
            "319 block5f_se_excite False\n",
            "320 block5f_project_conv False\n",
            "321 block5f_project_bn False\n",
            "322 block5f_drop False\n",
            "323 block5f_add False\n",
            "324 block6a_expand_conv False\n",
            "325 block6a_expand_bn False\n",
            "326 block6a_expand_activation False\n",
            "327 block6a_dwconv_pad False\n",
            "328 block6a_dwconv False\n",
            "329 block6a_bn False\n",
            "330 block6a_activation False\n",
            "331 block6a_se_squeeze False\n",
            "332 block6a_se_reshape False\n",
            "333 block6a_se_reduce False\n",
            "334 block6a_se_expand False\n",
            "335 block6a_se_excite False\n",
            "336 block6a_project_conv False\n",
            "337 block6a_project_bn False\n",
            "338 block6b_expand_conv False\n",
            "339 block6b_expand_bn False\n",
            "340 block6b_expand_activation False\n",
            "341 block6b_dwconv False\n",
            "342 block6b_bn False\n",
            "343 block6b_activation False\n",
            "344 block6b_se_squeeze False\n",
            "345 block6b_se_reshape False\n",
            "346 block6b_se_reduce False\n",
            "347 block6b_se_expand False\n",
            "348 block6b_se_excite False\n",
            "349 block6b_project_conv False\n",
            "350 block6b_project_bn False\n",
            "351 block6b_drop False\n",
            "352 block6b_add False\n",
            "353 block6c_expand_conv False\n",
            "354 block6c_expand_bn False\n",
            "355 block6c_expand_activation False\n",
            "356 block6c_dwconv False\n",
            "357 block6c_bn False\n",
            "358 block6c_activation False\n",
            "359 block6c_se_squeeze False\n",
            "360 block6c_se_reshape False\n",
            "361 block6c_se_reduce False\n",
            "362 block6c_se_expand False\n",
            "363 block6c_se_excite False\n",
            "364 block6c_project_conv False\n",
            "365 block6c_project_bn False\n",
            "366 block6c_drop False\n",
            "367 block6c_add False\n",
            "368 block6d_expand_conv False\n",
            "369 block6d_expand_bn False\n",
            "370 block6d_expand_activation False\n",
            "371 block6d_dwconv False\n",
            "372 block6d_bn False\n",
            "373 block6d_activation False\n",
            "374 block6d_se_squeeze False\n",
            "375 block6d_se_reshape False\n",
            "376 block6d_se_reduce False\n",
            "377 block6d_se_expand False\n",
            "378 block6d_se_excite False\n",
            "379 block6d_project_conv False\n",
            "380 block6d_project_bn False\n",
            "381 block6d_drop False\n",
            "382 block6d_add False\n",
            "383 block6e_expand_conv False\n",
            "384 block6e_expand_bn False\n",
            "385 block6e_expand_activation False\n",
            "386 block6e_dwconv False\n",
            "387 block6e_bn False\n",
            "388 block6e_activation False\n",
            "389 block6e_se_squeeze False\n",
            "390 block6e_se_reshape False\n",
            "391 block6e_se_reduce False\n",
            "392 block6e_se_expand False\n",
            "393 block6e_se_excite False\n",
            "394 block6e_project_conv False\n",
            "395 block6e_project_bn False\n",
            "396 block6e_drop False\n",
            "397 block6e_add False\n",
            "398 block6f_expand_conv False\n",
            "399 block6f_expand_bn False\n",
            "400 block6f_expand_activation False\n",
            "401 block6f_dwconv False\n",
            "402 block6f_bn False\n",
            "403 block6f_activation False\n",
            "404 block6f_se_squeeze False\n",
            "405 block6f_se_reshape False\n",
            "406 block6f_se_reduce False\n",
            "407 block6f_se_expand False\n",
            "408 block6f_se_excite False\n",
            "409 block6f_project_conv False\n",
            "410 block6f_project_bn False\n",
            "411 block6f_drop False\n",
            "412 block6f_add False\n",
            "413 block6g_expand_conv False\n",
            "414 block6g_expand_bn False\n",
            "415 block6g_expand_activation False\n",
            "416 block6g_dwconv False\n",
            "417 block6g_bn False\n",
            "418 block6g_activation False\n",
            "419 block6g_se_squeeze False\n",
            "420 block6g_se_reshape False\n",
            "421 block6g_se_reduce False\n",
            "422 block6g_se_expand False\n",
            "423 block6g_se_excite False\n",
            "424 block6g_project_conv False\n",
            "425 block6g_project_bn False\n",
            "426 block6g_drop False\n",
            "427 block6g_add False\n",
            "428 block6h_expand_conv False\n",
            "429 block6h_expand_bn False\n",
            "430 block6h_expand_activation False\n",
            "431 block6h_dwconv False\n",
            "432 block6h_bn False\n",
            "433 block6h_activation False\n",
            "434 block6h_se_squeeze False\n",
            "435 block6h_se_reshape False\n",
            "436 block6h_se_reduce False\n",
            "437 block6h_se_expand False\n",
            "438 block6h_se_excite False\n",
            "439 block6h_project_conv False\n",
            "440 block6h_project_bn False\n",
            "441 block6h_drop False\n",
            "442 block6h_add False\n",
            "443 block7a_expand_conv True\n",
            "444 block7a_expand_bn True\n",
            "445 block7a_expand_activation True\n",
            "446 block7a_dwconv True\n",
            "447 block7a_bn True\n",
            "448 block7a_activation True\n",
            "449 block7a_se_squeeze True\n",
            "450 block7a_se_reshape True\n",
            "451 block7a_se_reduce True\n",
            "452 block7a_se_expand True\n",
            "453 block7a_se_excite True\n",
            "454 block7a_project_conv True\n",
            "455 block7a_project_bn True\n",
            "456 block7b_expand_conv True\n",
            "457 block7b_expand_bn True\n",
            "458 block7b_expand_activation True\n",
            "459 block7b_dwconv True\n",
            "460 block7b_bn True\n",
            "461 block7b_activation True\n",
            "462 block7b_se_squeeze True\n",
            "463 block7b_se_reshape True\n",
            "464 block7b_se_reduce True\n",
            "465 block7b_se_expand True\n",
            "466 block7b_se_excite True\n",
            "467 block7b_project_conv True\n",
            "468 block7b_project_bn True\n",
            "469 block7b_drop True\n",
            "470 block7b_add True\n",
            "471 top_conv False\n",
            "472 top_bn False\n",
            "473 top_activation False\n",
            "Saving TensorBoard log files to: tensorboard_logs/Big_Boy_2/20220701-113852\n"
          ]
        }
      ]
    },
    {
      "cell_type": "code",
      "source": [
        "fine_tune_epochs = 14\n",
        "\n",
        "history_2 = model.fit(train_data,\n",
        "                      epochs=fine_tune_epochs,\n",
        "                      validation_data=test_data,\n",
        "                      validation_steps=int(0.1*len(test_data)),\n",
        "                      callbacks=[checkpoint_2, tensorboard_callback_2, early_stopping],\n",
        "                      initial_epoch=history.epoch[-1])"
      ],
      "metadata": {
        "colab": {
          "base_uri": "https://localhost:8080/"
        },
        "id": "nsXuJd9mis98",
        "outputId": "6cfedba5-7f68-4968-9ea9-d832712c107b"
      },
      "execution_count": null,
      "outputs": [
        {
          "output_type": "stream",
          "name": "stdout",
          "text": [
            "Epoch 5/14\n",
            "2368/2368 [==============================] - 301s 121ms/step - loss: 1.4783 - accuracy: 0.6199 - val_loss: 1.2568 - val_accuracy: 0.6717\n",
            "Epoch 6/14\n",
            "2368/2368 [==============================] - 285s 119ms/step - loss: 1.4572 - accuracy: 0.6246 - val_loss: 1.2569 - val_accuracy: 0.6701\n",
            "Epoch 7/14\n",
            "2368/2368 [==============================] - 281s 117ms/step - loss: 1.4520 - accuracy: 0.6270 - val_loss: 1.2415 - val_accuracy: 0.6756\n",
            "Epoch 8/14\n",
            "2368/2368 [==============================] - 281s 117ms/step - loss: 1.4404 - accuracy: 0.6279 - val_loss: 1.2498 - val_accuracy: 0.6784\n",
            "Epoch 9/14\n",
            "2368/2368 [==============================] - 284s 119ms/step - loss: 1.4298 - accuracy: 0.6305 - val_loss: 1.2508 - val_accuracy: 0.6744\n",
            "Epoch 10/14\n",
            "2368/2368 [==============================] - 282s 118ms/step - loss: 1.4321 - accuracy: 0.6311 - val_loss: 1.2462 - val_accuracy: 0.6733\n"
          ]
        }
      ]
    },
    {
      "cell_type": "code",
      "source": [
        "compare_historys(original_history=history,\n",
        "                 new_history=history_2,\n",
        "                 initial_epochs=5)"
      ],
      "metadata": {
        "colab": {
          "base_uri": "https://localhost:8080/"
        },
        "id": "ZEO6vwkNjcir",
        "outputId": "6360f145-20c4-44d1-d09b-67e78d2a513a"
      },
      "execution_count": null,
      "outputs": [
        {
          "output_type": "display_data",
          "data": {
            "text/plain": [
              "<Figure size 576x576 with 2 Axes>"
            ],
            "image/png": "[encoded data removed]"
          },
          "metadata": {
            "needs_background": "light"
          }
        }
      ]
    },
    {
      "cell_type": "code",
      "source": [],
      "metadata": {
        "id": "subiY9uMkKEH"
      },
      "execution_count": null,
      "outputs": []
    }
  ]
}